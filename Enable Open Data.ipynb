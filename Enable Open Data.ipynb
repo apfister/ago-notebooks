{
 "cells": [
  {
   "cell_type": "markdown",
   "metadata": {},
   "source": [
    "## Enable ArcGIS Open Data capabilities in your ArcGIS Online site\n",
    "Basically, we're just programmatically pressing the Enable Open Data button located @ Organization -> Settings -> Open Data. It may be useful to chain this with other, more useful scripts. ¯\\_(ツ)_/¯ "
   ]
  },
  {
   "cell_type": "code",
   "execution_count": null,
   "metadata": {},
   "outputs": [],
   "source": [
    "import getpass\n",
    "from arcgis import GIS\n",
    "\n",
    "user_name = input('Username: ')\n",
    "\n",
    "arcgis_url = 'https://www.arcgis.com'\n",
    "gis = GIS(arcgis_url, user_name)\n",
    "\n",
    "print ('succesfully logged in')"
   ]
  },
  {
   "cell_type": "code",
   "execution_count": null,
   "metadata": {},
   "outputs": [],
   "source": [
    "enable_open_data = True\n",
    "\n",
    "to_update = {\n",
    "    'portalProperties': {\n",
    "        'links': {},\n",
    "        'sharedTheme': {},\n",
    "        'showSocialMediaLinks': True,\n",
    "        'openData': {\n",
    "            'enabled' : enable_open_data\n",
    "        }\n",
    "    }\n",
    "}\n",
    "\n",
    "r = gis.update_properties(to_update)\n",
    "\n",
    "if r:\n",
    "    print ('succesfully enabled open data')\n",
    "else:\n",
    "    print ('unable to enable open data!')\n",
    "        "
   ]
  }
 ],
 "metadata": {
  "kernelspec": {
   "display_name": "Python 3",
   "language": "python",
   "name": "python3"
  },
  "language_info": {
   "codemirror_mode": {
    "name": "ipython",
    "version": 3
   },
   "file_extension": ".py",
   "mimetype": "text/x-python",
   "name": "python",
   "nbconvert_exporter": "python",
   "pygments_lexer": "ipython3",
   "version": "3.6.6"
  }
 },
 "nbformat": 4,
 "nbformat_minor": 2
}
