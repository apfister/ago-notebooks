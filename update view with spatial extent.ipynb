{
 "cells": [
  {
   "cell_type": "code",
   "execution_count": null,
   "metadata": {},
   "outputs": [],
   "source": [
    "from arcgis import GIS\n",
    "from arcgis.features import FeatureLayer\n",
    "from arcgis.features import FeatureLayerCollection\n",
    "\n",
    "import json\n",
    "import os"
   ]
  },
  {
   "cell_type": "code",
   "execution_count": null,
   "metadata": {},
   "outputs": [],
   "source": [
    "username = input('Username: ')\n",
    "gis = GIS('https://www.arcgis.com', username)\n",
    "\n",
    "print ('logged in')"
   ]
  },
  {
   "cell_type": "code",
   "execution_count": null,
   "metadata": {},
   "outputs": [],
   "source": [
    "item = gis.content.get('a6e330c275dd421a9a3dda6e8e546f3d')\n",
    "item"
   ]
  },
  {
   "cell_type": "code",
   "execution_count": null,
   "metadata": {},
   "outputs": [],
   "source": [
    "item_flc = FeatureLayerCollection.fromitem(item)\n",
    "item_flc"
   ]
  },
  {
   "cell_type": "code",
   "execution_count": null,
   "metadata": {},
   "outputs": [],
   "source": [
    "new_view = item_flc.manager.create_view(name='acled_view')\n",
    "new_view"
   ]
  },
  {
   "cell_type": "code",
   "execution_count": null,
   "metadata": {},
   "outputs": [],
   "source": [
    "view_flc = FeatureLayerCollection.fromitem(new_view)\n",
    "view_fl = view_flc.layers[0]"
   ]
  },
  {
   "cell_type": "markdown",
   "metadata": {},
   "source": [
    "sample view def for spatial extent (yemen)\n",
    "```\n",
    "{\n",
    "   \"viewLayerDefinition\":{\n",
    "      \"filter\":{\n",
    "         \"operator\":\"esriSpatialRelIntersects\",\n",
    "         \"value\":{\n",
    "            \"geometryType\":\"esriGeometryEnvelope\",\n",
    "            \"geometry\":{\n",
    "               \"xmin\":4680523.38251013,\n",
    "               \"ymin\":1390982.251045864,\n",
    "               \"xmax\":5994017.276562251,\n",
    "               \"ymax\":2247076.9678396108,\n",
    "               \"spatialReference\":{\n",
    "                  \"wkid\":102100,\n",
    "                  \"latestWkid\":3857\n",
    "               }\n",
    "            }\n",
    "         }\n",
    "      }\n",
    "   }\n",
    "}\n",
    "```"
   ]
  },
  {
   "cell_type": "code",
   "execution_count": null,
   "metadata": {},
   "outputs": [],
   "source": [
    "view_layer_def = {\n",
    "   \"viewLayerDefinition\":{\n",
    "      \"filter\":{\n",
    "         \"operator\":\"esriSpatialRelIntersects\",\n",
    "         \"value\":{\n",
    "            \"geometryType\":\"esriGeometryEnvelope\",\n",
    "            \"geometry\":{\n",
    "               \"xmin\":4680523.38251013,\n",
    "               \"ymin\":1390982.251045864,\n",
    "               \"xmax\":5994017.276562251,\n",
    "               \"ymax\":2247076.9678396108,\n",
    "               \"spatialReference\":{\n",
    "                  \"wkid\":102100,\n",
    "                  \"latestWkid\":3857\n",
    "               }\n",
    "            }\n",
    "         }\n",
    "      }\n",
    "   }\n",
    "}"
   ]
  },
  {
   "cell_type": "code",
   "execution_count": null,
   "metadata": {},
   "outputs": [],
   "source": [
    "mgr = view_fl.manager"
   ]
  },
  {
   "cell_type": "code",
   "execution_count": null,
   "metadata": {},
   "outputs": [],
   "source": [
    "mgr.update_definition(view_layer_def)"
   ]
  }
 ],
 "metadata": {
  "kernelspec": {
   "display_name": "Python 3",
   "language": "python",
   "name": "python3"
  },
  "language_info": {
   "codemirror_mode": {
    "name": "ipython",
    "version": 3
   },
   "file_extension": ".py",
   "mimetype": "text/x-python",
   "name": "python",
   "nbconvert_exporter": "python",
   "pygments_lexer": "ipython3",
   "version": "3.7.3"
  }
 },
 "nbformat": 4,
 "nbformat_minor": 4
}
