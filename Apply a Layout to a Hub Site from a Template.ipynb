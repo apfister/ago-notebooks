{
 "cells": [
  {
   "cell_type": "markdown",
   "metadata": {},
   "source": [
    "# Apply a Layout to a Hub Site from a Template\n",
    "This notebook will step you through populating that Hub Site from a predefined JSON structure.\n",
    "\n",
    "### First\n",
    "You will need to make sure that you have [Enabled Open Data Capabilities](https://doc.arcgis.com/en/hub/get-started/enable-open-data-capabilities.htm) in your ArcGIS Online Organization.\n",
    "\n",
    "### Next\n",
    "You'll need to  go through the Hub Admin application to create the Hub Site and/or any Hub Page(s).\n",
    "- Sign Into the [Hub Admin Application](https://doc.arcgis.com/en/hub/get-started/access-the-hub-admin-app.htm)\n",
    "- [Create](https://doc.arcgis.com/en/hub/sites/create-a-hub-site.htm) a Hub site\n",
    "- After creating your Hub site, open the **Site Editor**, view the URL in the address bar of your browser and copy the Hub Site ID into the `'<my existing hub site id>'` placeholder below\n",
    "  - Ex: ht<span>tps://</span>hub.arcgis.com/admin/layout/**8e9832195f7a47f1aa0491f2192b2177**/edit\n",
    "- Repeat these same steps using the Hub Admin application to create any [Hub Pages](https://doc.arcgis.com/en/hub/sites/working-with-pages.htm#ESRI_SECTION1_70AC2F03AAAE484190DE2F3B6F638758) you will need, and make note of their respective IDs.\n",
    "\n",
    "### Now you are ready!"
   ]
  },
  {
   "cell_type": "code",
   "execution_count": null,
   "metadata": {},
   "outputs": [],
   "source": [
    "hub_site_id = '0d48441b23434afcb9c143b05be7be2a'"
   ]
  },
  {
   "cell_type": "markdown",
   "metadata": {},
   "source": [
    "## Import the needed Python libraries"
   ]
  },
  {
   "cell_type": "code",
   "execution_count": null,
   "metadata": {},
   "outputs": [],
   "source": [
    "import os\n",
    "import json\n",
    "from arcgis import GIS"
   ]
  },
  {
   "cell_type": "markdown",
   "metadata": {},
   "source": [
    "## Setup your connection to ArcGIS Online"
   ]
  },
  {
   "cell_type": "code",
   "execution_count": null,
   "metadata": {},
   "outputs": [],
   "source": [
    "user_name = input('Username: ')\n",
    "\n",
    "arcgis_url = 'https://www.arcgis.com'\n",
    "gis = GIS(arcgis_url, user_name)\n",
    "\n",
    "print ('succesfully logged in')"
   ]
  },
  {
   "cell_type": "markdown",
   "metadata": {},
   "source": [
    "## Choose your Hub Site Template JSON\n",
    "This repository includes a few templates to choose from. You can view the live link to these sites from the `README.md` page, at the repository root."
   ]
  },
  {
   "cell_type": "code",
   "execution_count": null,
   "metadata": {},
   "outputs": [],
   "source": [
    "# optionally, specify a site title to appear in the browser tab\n",
    "site_title = 'UN Environment SDG Open Data Hub'\n",
    "\n",
    "# choose the template you want to use\n",
    "path_to_template_json = os.path.abspath(r'resources/hub-site-templates/sdg-hub-standard-categories.json')\n",
    "\n",
    "# load the template into memory\n",
    "template_json = None\n",
    "with open(path_to_template_json, 'r') as file:\n",
    "    template_json = json.load(file)\n",
    "\n",
    "if template_json is None:\n",
    "    print ('unable to load template JSON!')\n",
    "else:\n",
    "    print ('successfully loaded template JSON site from {}'.format(path_to_template_json))"
   ]
  },
  {
   "cell_type": "markdown",
   "metadata": {},
   "source": [
    "## Get the Hub Site ArcGIS Online Item\n",
    "Here we will load the Hub Site ArcGIS Online Item into memory using the supplied Hub Site ID"
   ]
  },
  {
   "cell_type": "code",
   "execution_count": null,
   "metadata": {},
   "outputs": [],
   "source": [
    "hub_site = gis.content.get(hub_site_id)\n",
    "\n",
    "if hub_site is None:\n",
    "    print ('unable to get Hub Site with ID :: {}'.format(hub_site_id))\n",
    "else:\n",
    "    print ('got hub site', hub_site)"
   ]
  },
  {
   "cell_type": "markdown",
   "metadata": {},
   "source": [
    "---\n",
    "# **WARNING** - THIS WILL REPLACE YOUR EXISTING HUB SITE\n",
    "# YOU **WILL** LOSE YOUR EXISTING LAYOUT\n",
    "# MAKE SURE YOU WANT TO DO THIS\n",
    "---\n",
    "\n",
    "## Replace the existing Site layout with the Template layout"
   ]
  },
  {
   "cell_type": "code",
   "execution_count": null,
   "metadata": {},
   "outputs": [],
   "source": [
    "hub_site_data = hub_site.get_data()\n",
    "hub_site_data['values']['layout'] = template_json\n",
    "\n",
    "print ('successfully overwrote existing layout JSON with template JSON. please proceed to commit the updates')"
   ]
  },
  {
   "cell_type": "code",
   "execution_count": null,
   "metadata": {},
   "outputs": [],
   "source": [
    "go_nogo = input('Are you sure you want to do this? (type yes or no)')\n",
    "\n",
    "if go_nogo == 'yes':\n",
    "    print ('applying template JSON to your Site ...')\n",
    "    r = hub_site.update({'title': site_title}, data=json.dumps(hub_site_data))\n",
    "    if r:\n",
    "        print ('successfully updated Hub Site')\n",
    "        print ('check it out @ {}'.format(hub_site.url))\n",
    "    else:\n",
    "        print ('unable to update Hub Site')      \n",
    "        \n",
    "else:\n",
    "    print ('ok, i won\\'t touch anything yet.')"
   ]
  },
  {
   "cell_type": "markdown",
   "metadata": {},
   "source": [
    "## Will you need to apply a template to a Hub Page that is part of this Hub Site?\n",
    "You will need to go through simliar steps as above for creating a Page and then copying and pasting its ID below. The following steps are then identical to those above."
   ]
  },
  {
   "cell_type": "code",
   "execution_count": null,
   "metadata": {},
   "outputs": [],
   "source": [
    "hub_page_id = '3350bc298d7c47c89342c748ea8b4fd7'"
   ]
  },
  {
   "cell_type": "code",
   "execution_count": null,
   "metadata": {},
   "outputs": [],
   "source": [
    "hub_page = gis.content.get(hub_page_id)\n",
    "\n",
    "if hub_page is None:\n",
    "    print ('unable to get Hub Page with ID :: {}'.format(hub_page_id))\n",
    "else:\n",
    "    print ('got hub page', hub_page)"
   ]
  },
  {
   "cell_type": "code",
   "execution_count": null,
   "metadata": {},
   "outputs": [],
   "source": [
    "path_to_page_template_json = os.path.abspath(r'resources/hub-site-templates/sdg-hub-page-categories.json')\n",
    "\n",
    "page_template_json = None\n",
    "with open(path_to_page_template_json, 'r') as file:\n",
    "    page_template_json = json.load(file)\n",
    "\n",
    "if page_template_json is None:\n",
    "    print ('unable to load Page template JSON!')\n",
    "else:\n",
    "    print ('successfully loaded Page template JSON site from {}'.format(path_to_page_template_json))"
   ]
  },
  {
   "cell_type": "code",
   "execution_count": null,
   "metadata": {},
   "outputs": [],
   "source": [
    "if hub_page is not None:\n",
    "    hub_page_data = hub_page.get_data()\n",
    "    hub_page_data['values']['layout'] = page_template_json"
   ]
  },
  {
   "cell_type": "code",
   "execution_count": null,
   "metadata": {},
   "outputs": [],
   "source": [
    "go_nogo = input('Are you sure you want to do this? (type yes or no)')\n",
    "\n",
    "if go_nogo == 'yes':\n",
    "    print ('applying template JSON to your Site ...')        \n",
    "\n",
    "    pr = hub_page.update({}, data=json.dumps(hub_page_data))\n",
    "\n",
    "    if pr:\n",
    "        print ('successfully updated Hub Page')\n",
    "        print ('check it out @ {}/pages/{}'.format(hub_site.url, hub_page.title))\n",
    "    else:\n",
    "        print ('unable to update Hub Page')\n",
    "        \n",
    "else:\n",
    "    print ('ok, i won\\'t touch anything yet.')"
   ]
  },
  {
   "cell_type": "code",
   "execution_count": null,
   "metadata": {},
   "outputs": [],
   "source": []
  }
 ],
 "metadata": {
  "kernelspec": {
   "display_name": "Python 3",
   "language": "python",
   "name": "python3"
  },
  "language_info": {
   "codemirror_mode": {
    "name": "ipython",
    "version": 3
   },
   "file_extension": ".py",
   "mimetype": "text/x-python",
   "name": "python",
   "nbconvert_exporter": "python",
   "pygments_lexer": "ipython3",
   "version": "3.6.6"
  }
 },
 "nbformat": 4,
 "nbformat_minor": 2
}
