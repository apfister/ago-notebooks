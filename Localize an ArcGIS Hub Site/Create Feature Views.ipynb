{
 "cells": [
  {
   "cell_type": "markdown",
   "metadata": {},
   "source": [
    "# Localize an ArcGIS Hub Site"
   ]
  },
  {
   "cell_type": "markdown",
   "metadata": {},
   "source": [
    "for hub site\n",
    "1. create the english/default site\n",
    "2. use the Hub admin UI to clone the Sites/pages\n",
    "3. get the Hub Site/Page ID\n",
    "\n",
    "for groups\n",
    "- where the group is in the JSON for the Site"
   ]
  },
  {
   "cell_type": "markdown",
   "metadata": {},
   "source": [
    "## Import Python libraries"
   ]
  },
  {
   "cell_type": "code",
   "execution_count": 1,
   "metadata": {},
   "outputs": [],
   "source": [
    "from arcgis import GIS\n",
    "from arcgis.features import FeatureLayer\n",
    "from arcgis.features import FeatureLayerCollection\n",
    "\n",
    "import json\n",
    "import os"
   ]
  },
  {
   "cell_type": "markdown",
   "metadata": {},
   "source": [
    "## Setup your connection to ArcGIS Online"
   ]
  },
  {
   "cell_type": "code",
   "execution_count": 2,
   "metadata": {},
   "outputs": [
    {
     "name": "stdout",
     "output_type": "stream",
     "text": [
      "logged in\n"
     ]
    }
   ],
   "source": [
    "username = input('Username: ')\n",
    "gis = GIS('https://www.arcgis.com', username)\n",
    "\n",
    "gis = GIS('https://www.arcgis.com', username, password)\n",
    "\n",
    "print ('logged in')"
   ]
  },
  {
   "cell_type": "code",
   "execution_count": null,
   "metadata": {},
   "outputs": [],
   "source": [
    "unsd_std_fields = None\n",
    "with open(os.path.abspath('test-files/UNSD_STANDARD_FIELDS.json'), 'rb') as file:\n",
    "    unsd_std_fields = json.load(file)\n",
    "\n",
    "print(unsd_std_fields)"
   ]
  },
  {
   "cell_type": "code",
   "execution_count": null,
   "metadata": {},
   "outputs": [],
   "source": [
    "locale_code = 'fr'"
   ]
  },
  {
   "cell_type": "code",
   "execution_count": null,
   "metadata": {},
   "outputs": [],
   "source": [
    "sdg_metadata = None\n",
    "pth = 'testing/localized/SDG_METADATA_API_{}.json'.format(locale_code)\n",
    "print (pth)\n",
    "with open(os.path.abspath(pth), 'rb') as file:\n",
    "    sdg_metadata = json.load(file)\n",
    "\n",
    "print(sdg_metadata)"
   ]
  },
  {
   "cell_type": "code",
   "execution_count": null,
   "metadata": {},
   "outputs": [],
   "source": [
    "group_ids = ['66d8595b381440afb5e320a9265c3fe1']\n",
    "\n",
    "locale_fields = unsd_std_fields[locale_code]\n",
    "\n",
    "icon_base_url = 'https://github.com/Esri/sdg-dash/raw/master/public/images/sdg/{}/TGG_Icon_Color_0{}.png'\n",
    "\n",
    "# ago_working_directory = None\n",
    "ago_working_directory = 'Localization Testing'\n",
    "\n",
    "for group_id in group_ids:\n",
    "    group = gis.groups.get(group_id)\n",
    "    \n",
    "    items = group.content()\n",
    "    \n",
    "    print ('starting in Group :: {}'.format(group.title))\n",
    "    for i, item in enumerate(items):\n",
    "        \n",
    "        # testing :: stop after 2 items\n",
    "        if i == 2:\n",
    "            break\n",
    "            \n",
    "        # get the feature layer\n",
    "        fl = item.layers[0]\n",
    "        \n",
    "        tags = item.tags\n",
    "        \n",
    "        sdg_ind_tag = None\n",
    "        sdg_series_tag = None\n",
    "        \n",
    "        for tag in tags:\n",
    "            if 'SDGIND' in tag:\n",
    "                sdg_ind_tag = tag\n",
    "            elif 'SDGSERIES' in tag:\n",
    "                sdg_series_tag = tag\n",
    "        \n",
    "        if sdg_ind_tag is None or sdg_series_tag is None:\n",
    "            break\n",
    "            \n",
    "        ind_parts = sdg_ind_tag.split('.')\n",
    "        goal_id = ind_parts[1]\n",
    "        target_id = '{}.{}'.format(goal_id, ind_parts[2])\n",
    "        indicator_id = '{}.{}.{}'.format(goal_id, ind_parts[2], ind_parts[3])\n",
    "        \n",
    "        series_parts = sdg_series_tag.split('.')\n",
    "        series_id = series_parts[1]\n",
    "        print (goal_id,target_id, indicator_id, series_id)\n",
    "\n",
    "        item_flc = FeatureLayerCollection.fromitem(item)\n",
    "\n",
    "        temporary_view_name = '{}_{}'.format(tag.replace('.', '_').lower(), locale_code)\n",
    "        print ('creating hosted fl view :: {} ..'.format(temporary_view_name))\n",
    "        new_view = item_flc.manager.create_view(name=temporary_view_name)\n",
    "        \n",
    "        if ago_working_directory is not None:\n",
    "            new_view.move(ago_working_directory)\n",
    "\n",
    "        view_flc = FeatureLayerCollection.fromitem(new_view)\n",
    "        view_fl = view_flc.layers[0]\n",
    "\n",
    "        # update the field alias\n",
    "        fields = view_fl.properties.fields\n",
    "        for field in fields:\n",
    "            if field.name in locale_fields:\n",
    "                field.alias = locale_fields[field.name]\n",
    "\n",
    "        view_fl.properties.editingInfo.lastEditDate = None\n",
    "\n",
    "        print ('updating field aliases ..')\n",
    "        view_fl.manager.update_definition(view_fl.properties)\n",
    "\n",
    "        # update the AGO Item Card\n",
    "        view_name = '{} - {}'.format(item.title, locale_code)\n",
    "        snippet = item.title\n",
    "        locale_tags = item.tags\n",
    "        for series in sdg_metadata:\n",
    "            if series['seriesCode'] == series_id:\n",
    "                view_name = 'Indicator {} - {}'.format(indicator_id, series['seriesDescription'])\n",
    "                snippet = view_name\n",
    "                locale_tags = item.tags + series['TAGS']\n",
    "                description = \"\"\"\n",
    "                    <b>Series {}</b>: {}<br/><br/>\n",
    "                    <b>Indicator {}</b>: {}<br/><br/>\n",
    "                    <b>Target {}</b>: {}<br/><br/>\n",
    "                    <b>Goal {}</b>: {}<br/>\n",
    "                    \"\"\".format(\n",
    "                    series_id, series['seriesDescription'],\n",
    "                    indicator_id, series['indicatorDescription'],\n",
    "                    target_id, series['targetDescription'],\n",
    "                    goal_id, series['goalDescription'])\n",
    "\n",
    "\n",
    "        view_item_card = {\n",
    "            \"title\": view_name,\n",
    "            \"description\": description,\n",
    "            \"snippet\": snippet,\n",
    "            \"tags\": locale_tags,\n",
    "            \"categories\": item.categories\n",
    "        }\n",
    "\n",
    "        thumbnail_url = icon_base_url.format(locale_code, goal_id)\n",
    "\n",
    "        print ('updating Item card ..')\n",
    "        new_view.update(item_properties=view_item_card, thumbnail=thumbnail_url)\n",
    "\n",
    "        # share with everyone\n",
    "        new_view.share(everyone=True)\n",
    "        \n",
    "        # share with Open Data Groups\n",
    "        # ex: Group Name is 'SDG01_fr' for SDG01 french version\n",
    "        sdg_od_group_locale = locale_groups[goal_id]\n",
    "        new_view.share(groups=sdg_od_group_locale)\n",
    "                \n",
    "print ('done')"
   ]
  }
 ],
 "metadata": {
  "kernelspec": {
   "display_name": "Python 3",
   "language": "python",
   "name": "python3"
  },
  "language_info": {
   "codemirror_mode": {
    "name": "ipython",
    "version": 3
   },
   "file_extension": ".py",
   "mimetype": "text/x-python",
   "name": "python",
   "nbconvert_exporter": "python",
   "pygments_lexer": "ipython3",
   "version": "3.6.6"
  }
 },
 "nbformat": 4,
 "nbformat_minor": 2
}
