{
 "cells": [
  {
   "cell_type": "markdown",
   "metadata": {},
   "source": [
    "# Hub Items Report"
   ]
  },
  {
   "cell_type": "markdown",
   "metadata": {},
   "source": [
    "## import needed python libraries"
   ]
  },
  {
   "cell_type": "code",
   "execution_count": null,
   "metadata": {},
   "outputs": [],
   "source": [
    "from datetime import datetime\n",
    "import requests\n",
    "import pandas as pd"
   ]
  },
  {
   "cell_type": "markdown",
   "metadata": {},
   "source": [
    "## setup parameters for search request(s)"
   ]
  },
  {
   "cell_type": "code",
   "execution_count": null,
   "metadata": {},
   "outputs": [],
   "source": [
    "group_id = '<group id>'\n",
    "\n",
    "# url something like 'https://www.arcgis.com/sharing/rest/search'\n",
    "# or something like 'https://<myOrganizationName>.maps.arcgis.com/sharing/rest/search'\n",
    "url = 'https://www.arcgis.com/sharing/rest/search'\n",
    "\n",
    "token = '<token>'\n",
    "\n",
    "params = {\n",
    "    'f': 'json',\n",
    "    'q': '(group:{})'.format(group_id),\n",
    "    'start': 1,\n",
    "    'num': 100,\n",
    "    'token' : token\n",
    "}"
   ]
  },
  {
   "cell_type": "markdown",
   "metadata": {},
   "source": [
    "## make request(s) to get all the items shared and add a formatted date column"
   ]
  },
  {
   "cell_type": "code",
   "execution_count": null,
   "metadata": {},
   "outputs": [],
   "source": [
    "# url something like 'https://<myOrganizationName>.opendata.arcgis.com/items'\n",
    "open_data_url = 'https://<myOrganizationName>.opendata.arcgis.com/items'\n",
    "\n",
    "r = requests.get(url, params).json()\n",
    "\n",
    "next_start = r['nextStart']\n",
    "\n",
    "items = r['results']\n",
    "\n",
    "total_results = len(items)\n",
    "\n",
    "results = []\n",
    "\n",
    "for item in items:\n",
    "    item['created_dte'] = datetime.utcfromtimestamp((item['created'])/1000).strftime('%Y-%m-%d %H:%M:%S')\n",
    "    item['modified_dte'] = datetime.utcfromtimestamp((item['modified'])/1000).strftime('%Y-%m-%d %H:%M:%S')\n",
    "    item['link_url'] = '{}/{}'.format(open_data_url, item['id'])\n",
    "    results.append(item)    \n",
    "\n",
    "while next_start != -1:\n",
    "    params['start'] = next_start\n",
    "    \n",
    "    r = requests.get(url, params).json()\n",
    "    \n",
    "    items = r['results']\n",
    "    total_results += len(items)\n",
    "    \n",
    "    for item in items:\n",
    "        item['created_dte'] = datetime.utcfromtimestamp((item['created'])/1000).strftime('%Y-%m-%d %H:%M:%S')\n",
    "        item['modified_dte'] = datetime.utcfromtimestamp((item['modified'])/1000).strftime('%Y-%m-%d %H:%M:%S')\n",
    "        item['link_url'] = '{}/{}'.format(open_data_url, item['id'])\n",
    "        results.append(item)        \n",
    "    \n",
    "    next_start = r['nextStart']\n",
    "    \n",
    "print ('done')"
   ]
  },
  {
   "cell_type": "markdown",
   "metadata": {},
   "source": [
    "## create a pandas data frame"
   ]
  },
  {
   "cell_type": "code",
   "execution_count": null,
   "metadata": {},
   "outputs": [],
   "source": [
    "columns = ['title', 'owner', 'type', 'numViews', 'tags', 'created_dte', 'modified_dte', 'link_url']\n",
    "df = pd.DataFrame(results, columns=columns)"
   ]
  },
  {
   "cell_type": "markdown",
   "metadata": {},
   "source": [
    "## export to csv"
   ]
  },
  {
   "cell_type": "code",
   "execution_count": null,
   "metadata": {},
   "outputs": [],
   "source": [
    "file_name = 'ngse-hub-item-report-9-20-2018'\n",
    "df.to_csv('{}.csv'.format(file_name))"
   ]
  }
 ],
 "metadata": {
  "kernelspec": {
   "display_name": "Python 3",
   "language": "python",
   "name": "python3"
  },
  "language_info": {
   "codemirror_mode": {
    "name": "ipython",
    "version": 3
   },
   "file_extension": ".py",
   "mimetype": "text/x-python",
   "name": "python",
   "nbconvert_exporter": "python",
   "pygments_lexer": "ipython3",
   "version": "3.6.6"
  }
 },
 "nbformat": 4,
 "nbformat_minor": 2
}
