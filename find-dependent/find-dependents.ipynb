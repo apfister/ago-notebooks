{
 "cells": [
  {
   "cell_type": "code",
   "execution_count": null,
   "metadata": {},
   "outputs": [],
   "source": [
    "from arcgis import GIS\n",
    "import json\n",
    "import pandas as pd"
   ]
  },
  {
   "cell_type": "code",
   "execution_count": null,
   "metadata": {},
   "outputs": [],
   "source": [
    "gis = GIS(profile='ago_ad')"
   ]
  },
  {
   "cell_type": "code",
   "execution_count": null,
   "metadata": {},
   "outputs": [],
   "source": [
    "gis.users.me.items()"
   ]
  },
  {
   "cell_type": "code",
   "execution_count": null,
   "metadata": {},
   "outputs": [],
   "source": [
    "items = gis.users.me.items()"
   ]
  },
  {
   "cell_type": "code",
   "execution_count": null,
   "metadata": {},
   "outputs": [],
   "source": [
    "webmaps = [x for x in items if x['type'] == 'Web Map']\n",
    "webmaps"
   ]
  },
  {
   "cell_type": "code",
   "execution_count": null,
   "metadata": {},
   "outputs": [],
   "source": [
    "output_webmap_dependencies = []\n",
    "for wm in webmaps:\n",
    "    print (wm['id'])\n",
    "    wm_json = wm.get_data(True)\n",
    "    operational_layers = wm_json['operationalLayers']\n",
    "    for ol in operational_layers:\n",
    "        itemId = None\n",
    "        if 'itemId' in ol:\n",
    "            itemId = ol['itemId']\n",
    "            \n",
    "        url = None\n",
    "        if 'url' in ol:\n",
    "            url = ol['url']\n",
    "\n",
    "        layerType = None    \n",
    "        if 'layerType' in ol:\n",
    "            layerType = ol['layerType']\n",
    "            \n",
    "        dep = [ wm.id, itemId , ol['title'], layerType, url ]\n",
    "        \n",
    "        output_webmap_dependencies.append(dep)"
   ]
  },
  {
   "cell_type": "code",
   "execution_count": null,
   "metadata": {},
   "outputs": [],
   "source": [
    "df = pd.DataFrame(output_webmap_dependencies, columns=['sourceId', 'itemId', 'title', 'type', 'url'])\n",
    "df.head(10)"
   ]
  },
  {
   "cell_type": "code",
   "execution_count": null,
   "metadata": {},
   "outputs": [],
   "source": [
    "\n",
    "    "
   ]
  },
  {
   "cell_type": "code",
   "execution_count": null,
   "metadata": {},
   "outputs": [],
   "source": []
  }
 ],
 "metadata": {
  "kernelspec": {
   "display_name": "Python 3",
   "language": "python",
   "name": "python3"
  },
  "language_info": {
   "codemirror_mode": {
    "name": "ipython",
    "version": 3
   },
   "file_extension": ".py",
   "mimetype": "text/x-python",
   "name": "python",
   "nbconvert_exporter": "python",
   "pygments_lexer": "ipython3",
   "version": "3.7.3"
  }
 },
 "nbformat": 4,
 "nbformat_minor": 4
}
