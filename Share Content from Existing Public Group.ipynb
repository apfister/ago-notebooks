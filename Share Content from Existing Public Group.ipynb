{
 "cells": [
  {
   "cell_type": "markdown",
   "metadata": {},
   "source": [
    "# Share Content from a Public Group to another Group"
   ]
  },
  {
   "cell_type": "markdown",
   "metadata": {},
   "source": [
    "## Import python libraries"
   ]
  },
  {
   "cell_type": "code",
   "execution_count": null,
   "metadata": {},
   "outputs": [],
   "source": [
    "from arcgis import GIS\n",
    "from arcgis.gis import Group"
   ]
  },
  {
   "cell_type": "markdown",
   "metadata": {},
   "source": [
    "## Login to ArcGIS Online"
   ]
  },
  {
   "cell_type": "code",
   "execution_count": null,
   "metadata": {},
   "outputs": [],
   "source": [
    "arcgis_url = 'https://www.arcgis.com'\n",
    "username = input('Username: ')\n",
    "gis = GIS(arcgis_url, username)\n",
    "\n",
    "print ('logged in')"
   ]
  },
  {
   "cell_type": "markdown",
   "metadata": {},
   "source": [
    "## What Group has the Items you want to share?"
   ]
  },
  {
   "cell_type": "code",
   "execution_count": null,
   "metadata": {},
   "outputs": [],
   "source": [
    "share_from_group = Group(gis, '8de7d7e7162549f3960f3094754dbe37')\n",
    "share_from_group"
   ]
  },
  {
   "cell_type": "markdown",
   "metadata": {},
   "source": [
    "## Filter the Group Items by Item Type"
   ]
  },
  {
   "cell_type": "code",
   "execution_count": null,
   "metadata": {},
   "outputs": [],
   "source": [
    "# add/remove Item Types here to exclude\n",
    "exclude_item_types = ['Code Attachment']\n",
    "\n",
    "# list of items\n",
    "items = share_from_group.content()\n",
    "\n",
    "# filter the items by item type\n",
    "filtered_items = [x for x in items if x.type not in exclude_item_types]\n",
    "\n",
    "print ('found {} items in {} Group'.format(len(filtered_items), share_from_group.title))"
   ]
  },
  {
   "cell_type": "markdown",
   "metadata": {},
   "source": [
    "## Share Items to your Group"
   ]
  },
  {
   "cell_type": "code",
   "execution_count": null,
   "metadata": {},
   "outputs": [],
   "source": [
    "# what group do you want to share the Items into?\n",
    "share_to_group = '6468c85aeb944aaf94cbd19759f40bb4'\n",
    "\n",
    "# handle any items that weren't shared\n",
    "not_shared = {}\n",
    "\n",
    "# share the items to your group\n",
    "for item in filtered_items:\n",
    "    res = item.share(groups=share_to_group)\n",
    "    if res['notSharedWith']:\n",
    "        not_shared[item.id] = {'groups': ','.join(res['notSharedWith'])}\n",
    "\n",
    "print ('done')\n",
    "\n",
    "if len(list(not_shared.keys())) > 0:\n",
    "    print ('notSharedWith results', not_shared)"
   ]
  }
 ],
 "metadata": {
  "kernelspec": {
   "display_name": "Python 3",
   "language": "python",
   "name": "python3"
  },
  "language_info": {
   "codemirror_mode": {
    "name": "ipython",
    "version": 3
   },
   "file_extension": ".py",
   "mimetype": "text/x-python",
   "name": "python",
   "nbconvert_exporter": "python",
   "pygments_lexer": "ipython3",
   "version": "3.6.6"
  }
 },
 "nbformat": 4,
 "nbformat_minor": 2
}
